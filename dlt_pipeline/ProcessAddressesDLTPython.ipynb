{
 "cells": [
  {
   "cell_type": "code",
   "execution_count": 0,
   "metadata": {
    "application/vnd.databricks.v1+cell": {
     "cellMetadata": {},
     "inputWidgets": {},
     "nuid": "97361211-4e86-44cc-9154-9a5ccb7b5782",
     "showTitle": false,
     "tableResultSettingsMap": {},
     "title": ""
    }
   },
   "outputs": [],
   "source": [
    "import dlt;\n",
    "import pyspark.sql.functions as F\n",
    "\n",
    "@dlt.table(\n",
    "    name = \"bronze_addresses\",\n",
    "    table_properties = {\n",
    "        \"quality\": \"bronze\"\n",
    "    },\n",
    "    comment = \"Raw addresses ingestion\"\n",
    ")\n",
    "def create_bronze_addresses():\n",
    "    return (spark.readStream.format(\"cloudFiles\")\n",
    "        .option(\"cloudFiles.format\", \"csv\")\n",
    "        .option(\"cloudFiles.inferColumnTypes\", \"true\")\n",
    "        .load(\"/Volumes/circuitbox/landing/operational_data/addresses/\")\n",
    "        .select(\n",
    "            \"*\",\n",
    "            F.col(\"_metadata.file_path\").alias(\"input_file_path\"),\n",
    "            F.current_timestamp().alias(\"ingest_timstamp\")\n",
    "        ) \n",
    "    )  "
   ]
  },
  {
   "cell_type": "code",
   "execution_count": 0,
   "metadata": {
    "application/vnd.databricks.v1+cell": {
     "cellMetadata": {},
     "inputWidgets": {},
     "nuid": "3f7d9c73-6d93-4aa1-bbe1-787136834a6c",
     "showTitle": false,
     "tableResultSettingsMap": {},
     "title": ""
    }
   },
   "outputs": [],
   "source": [
    "@dlt.table(\n",
    "    name = \"silver_addresses_clean\",\n",
    "    comment = \"Cleaned addresses\",\n",
    "    table_properties = {\n",
    "        \"quality\": \"silver\"\n",
    "    }\n",
    ")\n",
    "@dlt.expect_or_fail(\"valid_customer_id\", \"customer_id IS NOT NULL\")\n",
    "@dlt.expect_or_drop(\"valid_address_line_1\", \"address_line_1 IS NOT NULL\")\n",
    "@dlt.expect(\"postcode\", \"LENGTH(postcode) = 5\")\n",
    "def create_silver_addresses_clean():\n",
    "    return (spark.readStream.table(\"LIVE.bronze_addresses\").select(\n",
    "            \"customer_id\",\n",
    "            \"address_line_1\",\n",
    "            \"city\",\n",
    "            \"state\",\n",
    "            \"postcode\",\n",
    "            F.col(\"created_date\").cast(\"date\")\n",
    "        )\n",
    "    )"
   ]
  },
  {
   "cell_type": "code",
   "execution_count": 0,
   "metadata": {
    "application/vnd.databricks.v1+cell": {
     "cellMetadata": {},
     "inputWidgets": {},
     "nuid": "69e0dcd1-02fb-45cc-8a0b-69399214f9cb",
     "showTitle": false,
     "tableResultSettingsMap": {},
     "title": ""
    }
   },
   "outputs": [],
   "source": [
    "dlt.create_streaming_table(\n",
    "    name = \"silver_addresses\",\n",
    "    comment = \"SCP Type 2 addresses\",\n",
    "    table_properties = {\n",
    "        \"quality\": \"silver\"\n",
    "    }\n",
    ")\n",
    "dlt.apply_changes(\n",
    "    target = \"silver_addresses\",\n",
    "    source = \"LIVE.silver_addresses_clean\",\n",
    "    keys = [\"customer_id\"],\n",
    "    sequence_by = \"created_date\",\n",
    "    stored_as_scd_type = 2\n",
    ")\n"
   ]
  }
 ],
 "metadata": {
  "application/vnd.databricks.v1+notebook": {
   "computePreferences": null,
   "dashboards": [],
   "environmentMetadata": {
    "base_environment": "",
    "environment_version": "3"
   },
   "inputWidgetPreferences": null,
   "language": "python",
   "notebookMetadata": {
    "pythonIndentUnit": 4
   },
   "notebookName": "ProcessAddressesDLTPython",
   "widgets": {}
  },
  "language_info": {
   "name": "python"
  }
 },
 "nbformat": 4,
 "nbformat_minor": 0
}