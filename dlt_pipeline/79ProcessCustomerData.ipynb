{
 "cells": [
  {
   "cell_type": "code",
   "execution_count": 0,
   "metadata": {
    "application/vnd.databricks.v1+cell": {
     "cellMetadata": {
      "byteLimit": 2048000,
      "implicitDf": true,
      "rowLimit": 10000
     },
     "inputWidgets": {},
     "nuid": "059ffe83-3a37-4120-92a5-70a268537f47",
     "showTitle": false,
     "tableResultSettingsMap": {},
     "title": ""
    }
   },
   "outputs": [],
   "source": [
    "import dlt;\n",
    "import pyspark.sql.functions as F\n",
    "\n",
    "@dlt.table(\n",
    "    name = \"bronze_customers\",\n",
    "    table_properties = {\n",
    "        \"quality\": \"bronze\"\n",
    "    },\n",
    "    comment = \"Raw customers ingestion\"\n",
    ")\n",
    "def create_bronze_customers():\n",
    "    return (spark.readStream.format(\"cloudFiles\")\n",
    "        .option(\"cloudFiles.format\", \"json\")\n",
    "        .option(\"cloudFiles.inferColumnTypes\", \"true\")\n",
    "        .load(\"/Volumes/circuitbox/landing/operational_data/customers/\")\n",
    "        .select(\n",
    "            \"*\",\n",
    "            F.col(\"_metadata.file_path\").alias(\"input_file_path\"),\n",
    "            F.current_timestamp().alias(\"ingest_timstamp\")\n",
    "        ) \n",
    "    )  "
   ]
  },
  {
   "cell_type": "code",
   "execution_count": 0,
   "metadata": {
    "application/vnd.databricks.v1+cell": {
     "cellMetadata": {},
     "inputWidgets": {},
     "nuid": "45092b5a-6c07-49f0-bbaf-d1c1f90f91eb",
     "showTitle": false,
     "tableResultSettingsMap": {},
     "title": ""
    }
   },
   "outputs": [],
   "source": [
    "@dlt.table(\n",
    "    name = \"silver_customers_clean\",\n",
    "    comment = \"Cleaned customers\",\n",
    "    table_properties = {\n",
    "        \"quality\": \"silver\"\n",
    "    }\n",
    ")\n",
    "@dlt.expect_or_fail(\"valid_customer_id\", \"customer_id IS NOT NULL\")\n",
    "@dlt.expect_or_drop(\"valid_customer_name\", \"customer_name IS NOT NULL\")\n",
    "@dlt.expect(\"valid_telephone\", \"LENGTH(telephone) >= 10\")\n",
    "@dlt.expect(\"valid_email\", \"email is NOT NULL\")\n",
    "@dlt.expect(\"valid_dob\", \"date_of_birth >= '1920-01-01'\")\n",
    "def create_silver_customers_clean():\n",
    "    return (spark.readStream.table(\"LIVE.bronze_customers\").select(\n",
    "            \"customer_id\",\n",
    "            \"customer_name\",\n",
    "            F.col(\"date_of_birth\").cast(\"date\"),\n",
    "            \"telephone\",\n",
    "            \"email\",\n",
    "            F.col(\"created_date\").cast(\"date\")\n",
    "        )\n",
    "    )"
   ]
  },
  {
   "cell_type": "code",
   "execution_count": 0,
   "metadata": {
    "application/vnd.databricks.v1+cell": {
     "cellMetadata": {},
     "inputWidgets": {},
     "nuid": "be8c097c-c993-4fe2-b815-7dd55ed7ebdc",
     "showTitle": false,
     "tableResultSettingsMap": {},
     "title": ""
    }
   },
   "outputs": [],
   "source": [
    "dlt.create_streaming_table(\n",
    "    name = \"silver_customers\",\n",
    "    comment = \"SCP Type 1 customers\",\n",
    "    table_properties = {\n",
    "        \"quality\": \"silver\"\n",
    "    }\n",
    ")\n",
    "dlt.apply_changes(\n",
    "    target = \"silver_customers\",\n",
    "    source = \"LIVE.silver_customers_clean\",\n",
    "    keys = [\"customer_id\"],\n",
    "    sequence_by = \"created_date\",\n",
    "    stored_as_scd_type = 1\n",
    ")\n"
   ]
  }
 ],
 "metadata": {
  "application/vnd.databricks.v1+notebook": {
   "computePreferences": {
    "hardware": {
     "accelerator": null,
     "gpuPoolId": null,
     "memory": null
    }
   },
   "dashboards": [],
   "environmentMetadata": {
    "base_environment": "",
    "environment_version": "3"
   },
   "inputWidgetPreferences": null,
   "language": "python",
   "notebookMetadata": {
    "mostRecentlyExecutedCommandWithImplicitDF": {
     "commandId": 6154989035511906,
     "dataframes": [
      "_sqldf"
     ]
    },
    "pythonIndentUnit": 4
   },
   "notebookName": "79ProcessCustomerData",
   "widgets": {}
  },
  "language_info": {
   "name": "python"
  }
 },
 "nbformat": 4,
 "nbformat_minor": 0
}